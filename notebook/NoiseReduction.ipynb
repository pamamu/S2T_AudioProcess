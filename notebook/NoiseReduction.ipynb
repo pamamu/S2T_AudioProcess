{
 "cells": [
  {
   "cell_type": "code",
   "execution_count": 1,
   "metadata": {
    "collapsed": false
   },
   "outputs": [],
   "source": [
    "%load_ext autoreload\n",
    "%autoreload 2"
   ]
  },
  {
   "cell_type": "code",
   "execution_count": 2,
   "metadata": {},
   "outputs": [],
   "source": [
    "from pydub import AudioSegment,silence\n",
    "from pydub.playback import play\n",
    "from pydub.silence import split_on_silence"
   ]
  },
  {
   "cell_type": "code",
   "execution_count": 21,
   "metadata": {},
   "outputs": [],
   "source": [
    "sound_file = AudioSegment.from_wav(\"/Users/pablomaciasmunoz/Dev/WS_TFG/S2T_AudioProcess/resources/audio/tmp/carruseldeportivo_20171112_180000_1872_29.wav\")"
   ]
  },
  {
   "cell_type": "code",
   "execution_count": 16,
   "metadata": {},
   "outputs": [],
   "source": [
    "chunks = list(sound_file[::100])"
   ]
  },
  {
   "cell_type": "code",
   "execution_count": 30,
   "metadata": {
    "collapsed": false
   },
   "outputs": [],
   "source": [
    "# for i, j in enumerate(chunks):\n",
    "#     if j.dBFS > -25:\n",
    "#         print(i / 10, j.dBFS)\n",
    "# audio = [(i, chunk) for i, chunk in enumerate(chunks) if chunk.dBFS > -25]\n",
    "# noise = [(i, chunk) for i, chunk in enumerate(chunks) if chunk.dBFS <= -25]\n",
    "\n",
    "audio = []\n",
    "noise = []\n",
    "max_noise_duration = 3\n",
    "current_noise = []\n",
    "for i, chunk in enumerate(chunks):\n",
    "    data = (i, chunk)\n",
    "    if chunk.dBFS > -25:\n",
    "        if len(current_noise) > max_noise_duration:\n",
    "            noise += current_noise\n",
    "        else:\n",
    "            audio += current_noise\n",
    "        current_noise.clear()\n",
    "        audio.append(data)\n",
    "\n",
    "    else:  # SILENCE\n",
    "        current_noise.append(data)\n",
    "        # noise.append(data)\n",
    "        \n",
    "if len(current_noise) > max_noise_duration:\n",
    "    noise += current_noise\n",
    "else:\n",
    "    audio += current_noise\n",
    "# print(noise)\n",
    "\n",
    "audio_out = sum([*zip(*audio)][1], AudioSegment.empty())\n",
    "noise_out = sum([*zip(*noise)][1], AudioSegment.empty())"
   ]
  },
  {
   "cell_type": "code",
   "execution_count": 8,
   "metadata": {},
   "outputs": [
    {
     "data": {
      "text/plain": [
       "<_io.BufferedRandom name='/Users/pablomaciasmunoz/Dev/WS_TFG/S2T_AudioProcess/resources/audio/tmp/noise.wav'>"
      ]
     },
     "execution_count": 8,
     "metadata": {},
     "output_type": "execute_result"
    }
   ],
   "source": [
    "audio_out.export(\"/Users/pablomaciasmunoz/Dev/WS_TFG/S2T_AudioProcess/resources/audio/tmp/audio.wav\", format=\"wav\")\n",
    "noise_out.export(\"/Users/pablomaciasmunoz/Dev/WS_TFG/S2T_AudioProcess/resources/audio/tmp/noise.wav\", format=\"wav\")"
   ]
  },
  {
   "cell_type": "code",
   "execution_count": 11,
   "metadata": {},
   "outputs": [
    {
     "data": {
      "text/plain": [
       "True"
      ]
     },
     "execution_count": 11,
     "metadata": {},
     "output_type": "execute_result"
    }
   ],
   "source": [
    "import sox\n",
    "noise_reduction = sox.Transformer()\n",
    "noise_reduction.noiseprof('/Users/pablomaciasmunoz/Dev/WS_TFG/S2T_AudioProcess/resources/audio/tmp/noise.wav',\n",
    "                          '/Users/pablomaciasmunoz/Dev/WS_TFG/S2T_AudioProcess/resources/audio/tmp/noise.prof')\n",
    "audio_clean = sox.Transformer()\n",
    "audio_clean.noisered('/Users/pablomaciasmunoz/Dev/WS_TFG/S2T_AudioProcess/resources/audio/tmp/noise.prof', 0.21)\n",
    "audio_clean.build('/Users/pablomaciasmunoz/Dev/WS_TFG/S2T_AudioProcess/resources/audio/tmp/audio.wav', \n",
    "                  '/Users/pablomaciasmunoz/Dev/WS_TFG/S2T_AudioProcess/resources/audio/tmp/audio_clean.wav')\n"
   ]
  },
  {
   "cell_type": "code",
   "execution_count": 31,
   "metadata": {
    "collapsed": false
   },
   "outputs": [
    {
     "name": "stdout",
     "output_type": "stream",
     "text": [
      "5\n286\n291\n"
     ]
    }
   ],
   "source": [
    "print(len(noise))\n",
    "print(len(audio))\n",
    "print(len(chunks))"
   ]
  },
  {
   "cell_type": "code",
   "execution_count": 88,
   "metadata": {},
   "outputs": [],
   "source": [
    "from itertools import groupby, count\n",
    "\n",
    "noise_list = [[(next(item for item in noise if item[0] == v)) for v in g] for k, g in\n",
    "              groupby([*zip(*noise)][0], key=lambda i, j=count(): i - next(j))]\n",
    "audio_list = [[(next(item for item in audio if item[0] == v)) for v in g] for k, g in\n",
    "              groupby([*zip(*audio)][0], key=lambda i, j=count(): i - next(j))]\n",
    "for i, audio in enumerate(noise_list):\n",
    "    exp_audio = sum([j[1] for j in audio], AudioSegment.empty())\n",
    "    play(exp_audio)\n",
    "    exp_audio.export('/Users/pablomaciasmunoz/Dev/WS_TFG/S2T_AudioProcess/resources/audio/tmp/noise_{}.wav'.format(i),\n",
    "                     format='wav')\n",
    "for i, audio in enumerate(audio_list):\n",
    "    exp_audio = sum([j[1] for j in audio], AudioSegment.empty())\n",
    "    play(exp_audio)\n",
    "    exp_audio.export('/Users/pablomaciasmunoz/Dev/WS_TFG/S2T_AudioProcess/resources/audio/tmp/audio_{}.wav'.format(i),\n",
    "                     format='wav')\n"
   ]
  },
  {
   "cell_type": "code",
   "execution_count": 94,
   "metadata": {},
   "outputs": [
    {
     "name": "stdout",
     "output_type": "stream",
     "text": [
      "[1, 2, 3, 4, 5, 3]\n[]\n"
     ]
    }
   ],
   "source": [
    "a = [1, 2, 3, 4]\n",
    "b = [5, 3]\n",
    "print(a+b)\n",
    "a.clear()\n",
    "print(a)"
   ]
  },
  {
   "cell_type": "code",
   "execution_count": 14,
   "metadata": {},
   "outputs": [
    {
     "data": {
      "text/plain": [
       "<_io.BufferedRandom name='/Users/pablomaciasmunoz/Dev/WS_TFG/S2T_AudioProcess/resources/audio/original/carruseldeportivo_20171112_180000_1872_29.wav'>"
      ]
     },
     "execution_count": 14,
     "metadata": {},
     "output_type": "execute_result"
    }
   ],
   "source": [
    "a = AudioSegment.from_mp3('/Users/pablomaciasmunoz/Dev/WS_TFG/S2T_AudioProcess/resources/audio/original/carruseldeportivo_20171112_180000_1872_29.mp3')\n",
    "a.export('/Users/pablomaciasmunoz/Dev/WS_TFG/S2T_AudioProcess/resources/audio/original/carruseldeportivo_20171112_180000_1872_29.wav', format='wav')"
   ]
  },
  {
   "cell_type": "code",
   "execution_count": null,
   "metadata": {},
   "outputs": [],
   "source": []
  }
 ],
 "metadata": {
  "kernelspec": {
   "display_name": "Python 2",
   "language": "python",
   "name": "python2"
  },
  "language_info": {
   "codemirror_mode": {
    "name": "ipython",
    "version": 2
   },
   "file_extension": ".py",
   "mimetype": "text/x-python",
   "name": "python",
   "nbconvert_exporter": "python",
   "pygments_lexer": "ipython2",
   "version": "2.7.6"
  }
 },
 "nbformat": 4,
 "nbformat_minor": 0
}
