{
 "cells": [
  {
   "cell_type": "code",
   "execution_count": 1,
   "metadata": {
    "collapsed": true
   },
   "outputs": [
    {
     "name": "stdout",
     "output_type": "stream",
     "text": [
      "['aac', 'aiff', 'flac', 'mp3', 'ogg', 'wav', 'wma']\n(aac,aiff,flac,mp3,ogg,wav,wma)\n"
     ]
    }
   ],
   "source": [
    "import src.utils.config as config\n",
    "print (config.audio_extensions)\n",
    "str1 = ','.join(config.audio_extensions)\n",
    "print('({})'.format(str1))"
   ]
  }
 ],
 "metadata": {
  "kernelspec": {
   "display_name": "Python 2",
   "language": "python",
   "name": "python2"
  },
  "language_info": {
   "codemirror_mode": {
    "name": "ipython",
    "version": 2
   },
   "file_extension": ".py",
   "mimetype": "text/x-python",
   "name": "python",
   "nbconvert_exporter": "python",
   "pygments_lexer": "ipython2",
   "version": "2.7.6"
  }
 },
 "nbformat": 4,
 "nbformat_minor": 0
}
