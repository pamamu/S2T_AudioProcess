{
 "cells": [
  {
   "cell_type": "markdown",
   "metadata": {},
   "source": [
    "# Notebook para Leer ficheros de una carpeta"
   ]
  },
  {
   "cell_type": "code",
   "execution_count": 1,
   "metadata": {},
   "outputs": [],
   "source": [
    "import os\n",
    "import json"
   ]
  },
  {
   "cell_type": "code",
   "execution_count": 8,
   "metadata": {},
   "outputs": [],
   "source": [
    "def folder_to_dict(path, max):\n",
    "    '''\n",
    "    Método que dado una carpeta padre y un numero de iteraciones devuelve un diccionario con la estructura de ficheros y carpetas\n",
    "    :param path: Ruta de inicio de directorios y ficheros\n",
    "    :param max: Número máximo de iteraciones. <1 indica que solo se analiza la carpeta dada\n",
    "    :return: Diccionario con estrucutra de ficheros\n",
    "    '''\n",
    "    max -= 1\n",
    "    d = {'name': os.path.basename(path)}\n",
    "    if os.path.isdir(path):\n",
    "        d['type'] = \"folder\"\n",
    "        if(max>0):\n",
    "            d['children'] = [folder_to_dict(os.path.join(path, x), max) for x in os.listdir(path)]\n",
    "    else:\n",
    "        d['type'] = \"file\"\n",
    "    return d\n"
   ]
  },
  {
   "cell_type": "code",
   "execution_count": 9,
   "metadata": {
    "collapsed": false
   },
   "outputs": [
    {
     "name": "stdout",
     "output_type": "stream",
     "text": [
      "{\"name\": \"\", \"type\": \"folder\", \"children\": [{\"name\": \"tmp\", \"type\": \"folder\"}, {\"name\": \"initrd.img.old\", \"type\": \"file\"}, {\"name\": \"etc\", \"type\": \"folder\"}, {\"name\": \"media\", \"type\": \"folder\"}, {\"name\": \"sbin\", \"type\": \"folder\"}, {\"name\": \"home\", \"type\": \"folder\"}, {\"name\": \"lib\", \"type\": \"folder\"}, {\"name\": \"usr\", \"type\": \"folder\"}, {\"name\": \"srv\", \"type\": \"folder\"}, {\"name\": \"dev\", \"type\": \"folder\"}, {\"name\": \"root\", \"type\": \"folder\"}, {\"name\": \"proc\", \"type\": \"folder\"}, {\"name\": \"sys\", \"type\": \"folder\"}, {\"name\": \"bin\", \"type\": \"folder\"}, {\"name\": \"cdrom\", \"type\": \"folder\"}, {\"name\": \"run\", \"type\": \"folder\"}, {\"name\": \"var\", \"type\": \"folder\"}, {\"name\": \"lost+found\", \"type\": \"folder\"}, {\"name\": \"opt\", \"type\": \"folder\"}, {\"name\": \"vmlinuz\", \"type\": \"file\"}, {\"name\": \"initrd.img\", \"type\": \"file\"}, {\"name\": \"vmlinuz.old\", \"type\": \"file\"}, {\"name\": \"mnt\", \"type\": \"folder\"}, {\"name\": \"lib64\", \"type\": \"folder\"}, {\"name\": \"boot\", \"type\": \"folder\"}, {\"name\": \"snap\", \"type\": \"folder\"}]}\n"
     ]
    }
   ],
   "source": [
    "print(json.dumps(folder_to_dict(\"/\", 2)))"
   ]
  },
  {
   "cell_type": "code",
   "execution_count": null,
   "metadata": {},
   "outputs": [],
   "source": []
  }
 ],
 "metadata": {
  "kernelspec": {
   "display_name": "Python 3",
   "language": "python",
   "name": "python3"
  },
  "language_info": {
   "codemirror_mode": {
    "name": "ipython",
    "version": 3
   },
   "file_extension": ".py",
   "mimetype": "text/x-python",
   "name": "python",
   "nbconvert_exporter": "python",
   "pygments_lexer": "ipython3",
   "version": "3.7.0"
  }
 },
 "nbformat": 4,
 "nbformat_minor": 2
}
